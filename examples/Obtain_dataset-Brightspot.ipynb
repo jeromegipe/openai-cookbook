{
 "cells": [
  {
   "cell_type": "markdown",
   "metadata": {},
   "source": [
    "## 1. Load the dataset\n",
    "\n",
    "The dataset used in this example is [fine-food reviews](https://www.kaggle.com/snap/amazon-fine-food-reviews) from Amazon. The dataset contains a total of 568,454 food reviews Amazon users left up to October 2012. We will use a subset of this dataset, consisting of 1,000 most recent reviews for illustration purposes. The reviews are in English and tend to be positive or negative. Each review has a ProductId, UserId, Score, review title (Summary) and review body (Text).\n",
    "\n",
    "We will combine the review summary and review text into a single combined text. The model will encode this combined text and it will output a single vector embedding."
   ]
  },
  {
   "cell_type": "markdown",
   "metadata": {},
   "source": [
    "To run this notebook, you will need to install: pandas, openai, transformers, plotly, matplotlib, scikit-learn, torch (transformer dep), torchvision, and scipy."
   ]
  },
  {
   "cell_type": "code",
   "execution_count": 1,
   "metadata": {},
   "outputs": [],
   "source": [
    "# imports\n",
    "import pandas as pd\n",
    "import tiktoken\n",
    "\n",
    "from openai.embeddings_utils import get_embedding\n"
   ]
  },
  {
   "cell_type": "code",
   "execution_count": 2,
   "metadata": {},
   "outputs": [],
   "source": [
    "# embedding model parameters\n",
    "embedding_model = \"text-embedding-ada-002\"\n",
    "embedding_encoding = \"cl100k_base\"  # this the encoding for text-embedding-ada-002\n",
    "max_tokens = 8000  # the maximum for text-embedding-ada-002 is 8191\n"
   ]
  },
  {
   "cell_type": "code",
   "execution_count": 31,
   "metadata": {},
   "outputs": [
    {
     "data": {
      "text/html": [
       "<div>\n",
       "<style scoped>\n",
       "    .dataframe tbody tr th:only-of-type {\n",
       "        vertical-align: middle;\n",
       "    }\n",
       "\n",
       "    .dataframe tbody tr th {\n",
       "        vertical-align: top;\n",
       "    }\n",
       "\n",
       "    .dataframe thead th {\n",
       "        text-align: right;\n",
       "    }\n",
       "</style>\n",
       "<table border=\"1\" class=\"dataframe\">\n",
       "  <thead>\n",
       "    <tr style=\"text-align: right;\">\n",
       "      <th></th>\n",
       "      <th>Label</th>\n",
       "      <th>Update Date</th>\n",
       "      <th>Subject Tags</th>\n",
       "      <th>Authors</th>\n",
       "      <th>Body</th>\n",
       "      <th>combined</th>\n",
       "    </tr>\n",
       "    <tr>\n",
       "      <th>Type</th>\n",
       "      <th></th>\n",
       "      <th></th>\n",
       "      <th></th>\n",
       "      <th></th>\n",
       "      <th></th>\n",
       "      <th></th>\n",
       "    </tr>\n",
       "  </thead>\n",
       "  <tbody>\n",
       "    <tr>\n",
       "      <th>Article</th>\n",
       "      <td>Rape Kit Backlogs Remain in States Despite Fun...</td>\n",
       "      <td>Wed Jun 21 20:24:35 EDT 2023</td>\n",
       "      <td>sexual assault, rape, Department of Justice, c...</td>\n",
       "      <td>Chris Gilligan</td>\n",
       "      <td>Untested rape kits have piled up in law enforc...</td>\n",
       "      <td>Title: Rape Kit Backlogs Remain in States Desp...</td>\n",
       "    </tr>\n",
       "    <tr>\n",
       "      <th>Article</th>\n",
       "      <td>Hunter Biden’s Questionable Case of ‘Special T...</td>\n",
       "      <td>Wed Jun 21 18:46:49 EDT 2023</td>\n",
       "      <td>Biden, Hunter, Biden, Joe, taxes, courts</td>\n",
       "      <td>Susan Milligan</td>\n",
       "      <td>Republicans called Hunter Biden's plea agreeme...</td>\n",
       "      <td>Title: Hunter Biden’s Questionable Case of ‘Sp...</td>\n",
       "    </tr>\n",
       "  </tbody>\n",
       "</table>\n",
       "</div>"
      ],
      "text/plain": [
       "                                                     Label  \\\n",
       "Type                                                         \n",
       "Article  Rape Kit Backlogs Remain in States Despite Fun...   \n",
       "Article  Hunter Biden’s Questionable Case of ‘Special T...   \n",
       "\n",
       "                          Update Date  \\\n",
       "Type                                    \n",
       "Article  Wed Jun 21 20:24:35 EDT 2023   \n",
       "Article  Wed Jun 21 18:46:49 EDT 2023   \n",
       "\n",
       "                                              Subject Tags         Authors  \\\n",
       "Type                                                                         \n",
       "Article  sexual assault, rape, Department of Justice, c...  Chris Gilligan   \n",
       "Article           Biden, Hunter, Biden, Joe, taxes, courts  Susan Milligan   \n",
       "\n",
       "                                                      Body  \\\n",
       "Type                                                         \n",
       "Article  Untested rape kits have piled up in law enforc...   \n",
       "Article  Republicans called Hunter Biden's plea agreeme...   \n",
       "\n",
       "                                                  combined  \n",
       "Type                                                        \n",
       "Article  Title: Rape Kit Backlogs Remain in States Desp...  \n",
       "Article  Title: Hunter Biden’s Questionable Case of ‘Sp...  "
      ]
     },
     "execution_count": 31,
     "metadata": {},
     "output_type": "execute_result"
    }
   ],
   "source": [
    "# load & inspect dataset\n",
    "input_datapath = \"data/brightspot_articles.csv\"\n",
    "df = pd.read_csv(input_datapath, index_col=0)\n",
    "df = df[[\"Label\", \"Update Date\", \"Subject Tags\", \"Authors\", \"Body\"]]\n",
    "df = df.dropna()\n",
    "df[\"combined\"] = (\n",
    "    \"Title: \" + df.Label.str.strip() + \"; Content: \" + df.Body.str.strip()\n",
    ")\n",
    "df.head(2)\n"
   ]
  },
  {
   "cell_type": "code",
   "execution_count": 29,
   "metadata": {},
   "outputs": [
    {
     "data": {
      "text/plain": [
       "41"
      ]
     },
     "execution_count": 29,
     "metadata": {},
     "output_type": "execute_result"
    }
   ],
   "source": [
    "# subsample to 1k most recent reviews and remove samples that are too long\n",
    "top_n = 1000\n",
    "df = df.sort_values(\"Update Date\").tail(top_n * 2)  # first cut to first 2k entries, assuming less than half will be filtered out\n",
    "df.drop(\"Update Date\", axis=1, inplace=True)\n",
    "\n",
    "encoding = tiktoken.get_encoding(embedding_encoding)\n",
    "\n",
    "# omit reviews that are too long to embed\n",
    "df[\"n_tokens\"] = df.combined.apply(lambda x: len(encoding.encode(x)))\n",
    "df = df[df.n_tokens <= max_tokens].tail(top_n)\n",
    "len(df)\n"
   ]
  },
  {
   "cell_type": "markdown",
   "metadata": {},
   "source": [
    "## 2. Get embeddings and save them for future reuse"
   ]
  },
  {
   "cell_type": "code",
   "execution_count": 30,
   "metadata": {},
   "outputs": [],
   "source": [
    "# Ensure you have your API key set in your environment per the README: https://github.com/openai/openai-python#usage\n",
    "\n",
    "# This may take a few minutes\n",
    "df[\"embedding\"] = df.combined.apply(lambda x: get_embedding(x, engine=embedding_model))\n",
    "df.to_csv(\"data/brightspot_articles_with_embeddings.csv\")\n"
   ]
  }
 ],
 "metadata": {
  "kernelspec": {
   "display_name": "Python 3 (ipykernel)",
   "language": "python",
   "name": "python3"
  },
  "language_info": {
   "codemirror_mode": {
    "name": "ipython",
    "version": 3
   },
   "file_extension": ".py",
   "mimetype": "text/x-python",
   "name": "python",
   "nbconvert_exporter": "python",
   "pygments_lexer": "ipython3",
   "version": "3.9.2"
  },
  "vscode": {
   "interpreter": {
    "hash": "365536dcbde60510dc9073d6b991cd35db2d9bac356a11f5b64279a5e6708b97"
   }
  }
 },
 "nbformat": 4,
 "nbformat_minor": 2
}
