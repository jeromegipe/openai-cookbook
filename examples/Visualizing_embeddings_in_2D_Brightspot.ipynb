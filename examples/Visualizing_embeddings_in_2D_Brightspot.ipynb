{
 "cells": [
  {
   "cell_type": "markdown",
   "metadata": {},
   "source": [
    "## Visualizing the embeddings in 2D\n",
    "\n",
    "We will use t-SNE to reduce the dimensionality of the embeddings from 1536 to 2. Once the embeddings are reduced to two dimensions, we can plot them in a 2D scatter plot. The dataset is created in the [Obtain_dataset Notebook](Obtain_dataset.ipynb)."
   ]
  },
  {
   "cell_type": "markdown",
   "metadata": {},
   "source": [
    "### 1. Reduce dimensionality\n",
    "\n",
    "We reduce the dimensionality to 2 dimensions using t-SNE decomposition."
   ]
  },
  {
   "cell_type": "code",
   "execution_count": 7,
   "metadata": {},
   "outputs": [
    {
     "data": {
      "text/plain": [
       "(41, 2)"
      ]
     },
     "execution_count": 7,
     "metadata": {},
     "output_type": "execute_result"
    }
   ],
   "source": [
    "import pandas as pd\n",
    "from sklearn.manifold import TSNE\n",
    "import numpy as np\n",
    "\n",
    "# Load the embeddings\n",
    "datafile_path = \"data/brightspot_articles_with_embeddings.csv\"\n",
    "df = pd.read_csv(datafile_path)\n",
    "\n",
    "# Convert to a list of lists of floats\n",
    "matrix = np.array(df.embedding.apply(eval).to_list())\n",
    "\n",
    "# Create a t-SNE model and transform the data\n",
    "tsne = TSNE(n_components=2, perplexity=15, random_state=42, init='random', learning_rate=200)\n",
    "vis_dims = tsne.fit_transform(matrix)\n",
    "vis_dims.shape"
   ]
  },
  {
   "cell_type": "markdown",
   "metadata": {},
   "source": [
    "### 2. Plotting the embeddings\n",
    "\n",
    "We colour each review by its star rating, ranging from red to green."
   ]
  },
  {
   "cell_type": "markdown",
   "metadata": {},
   "source": [
    "We can observe a decent data separation even in the reduced 2 dimensions."
   ]
  },
  {
   "cell_type": "code",
   "execution_count": 35,
   "metadata": {},
   "outputs": [
    {
     "data": {
      "application/vnd.plotly.v1+json": {
       "config": {
        "plotlyServerURL": "https://plot.ly"
       },
       "data": [
        {
         "customdata": [
          [
           "Supreme Court Ethics Questions Reach Far Beyond Clarence Thomas (230616report.scotus) (316 PV)",
           "Lauren Camera"
          ],
          [
           "15 Cheap DIY Backyard Game Ideas for Summer (230616realestate.cheapbackyardgames) (93 PV)",
           "Devon Thorsby"
          ],
          [
           "Save With These Budget Bathroom Remodel Ideas (230616realestate.bathroomremodel) (31 PV)",
           "Devon Thorsby"
          ],
          [
           "Mortgage Rates Rise, Pushing Housing Payments to New Heights (230616loans.mortgageratescolumn) (15 PV)",
           "Erika Giovanetti"
          ],
          [
           "Most Delta SkyMiles American Express Cards Increase Welcome Offers (230615creditcards.deltaskymilesamexweclomeoffer) (10 PV)",
           "Melanie Pincus, Ray Frager "
          ],
          [
           "Are Low-Fat Low-Carb Diets Compatible? (230616health.lowfatlowcarbdiet) (103 PV)",
           "Shanley Chien"
          ],
          [
           "How Many Americans Will Take a Fall COVID-19 Booster Shot? (230616news.booster) (336 PV)",
           "Cecelia Smith-Schoenwalder"
          ],
          [
           "Russians Don’t Want Putin to Use Nuclear Weapons in Ukraine (230616news.nuclear) (1,549 PV)",
           "Paul D. Shinkman"
          ],
          [
           "Can I Use My Own Airplane Seat Belt Extender? (230505travel.seatbeltextenders) (67 PV)",
           "Suzanne Mason"
          ],
          [
           "Poll: Majority Says Trump Should Drop Out of Presidential Race (230616news.trump) (341 PV)",
           "Susan Milligan"
          ],
          [
           "CDC Study Shows Rise in Violent Death Rates Among U.S. Youth (230615hc.violence) (20 PV)",
           "Steven Ross Johnson"
          ],
          [
           "Mortgage Calculator (201117loans.mortgagecalculator) (12 PV)",
           "Ali Cybulski , Erika Giovanetti"
          ],
          [
           "North Korea Launches Ballistic Missiles Toward Japan in Defiance of U.S. Military Drills (230615news.northkorea) (17 PV)",
           "Paul D. Shinkman"
          ],
          [
           "How to Refinance Your Car Loan (221129loans.refinance-car-loan) (4 PV)",
           "Ben Luthi, August Barham, Mark Evitt, Whitney Blair Wyckoff"
          ],
          [
           "U.S. Military Leaders Acknowledge Ukraine’s ‘Uncertain,’ ‘Violent’ Future (230615news.russia) (24 PV)",
           "Paul D. Shinkman"
          ],
          [
           "June Has Hottest Start on Record (230615news.climate) (109 PV)",
           "Cecelia Smith-Schoenwalder"
          ],
          [
           "Cheap Alternatives to Air Conditioning (230615realestate.airconditioningalternatives) (199 PV)",
           "Devon Thorsby"
          ],
          [
           "What Are the Dangers of Chiropractic Care During Pregnancy? (230615health.pregnant.chiropractic) (24 PV)",
           "Ruben Castaneda, Payton Sy"
          ],
          [
           "FDA Committee OKs Change to COVID-19 Vaccines Ahead of Fall Booster Campaign (230615news.fda) (59 PV)",
           "Cecelia Smith-Schoenwalder"
          ],
          [
           "Fed’s Powell to Testify to Congress as New Housing Construction Surges (230620news.preview) (5,348 PV)",
           "Tim Smart"
          ],
          [
           "How to Become a Lawyer: A Step-by-Step Guide (230620edu.becomealawyer) (346 PV)",
           "Ilana Kowarski, Sarah Wood "
          ],
          [
           "Judge Overseeing Trump’s Prosecution Sets Trial Date for Mid-August (230620news.trump) (695 PV)",
           "Claire Hansen"
          ],
          [
           "Will Pay-for-Delete Improve My Credit Score? (230620creditcards.delete) (38 PV)",
           "Casey Bond, Emily Hayes, Ray Frager "
          ],
          [
           "Hunter Biden to Plead Guilty to Gun, Tax Charges (230620news.hunter) (208 PV)",
           "Susan Milligan"
          ],
          [
           "How to Save for a Wedding (230620personalfinance.saveforwedding) (142 PV)",
           "Erica Sandberg, Barri Segal, Emma Kerr"
          ],
          [
           "Russia Advances in Ukraine as Zelenskyy Stresses: ‘We Have No Lost Positions’ (230620news.ukraine) (6,555 PV)",
           "Paul D. Shinkman"
          ],
          [
           "Why You Should (and Shouldn't) Sell Your Home in 2023 (230620realestate.whysellhome) (176 PV)",
           "Devon Thorsby"
          ],
          [
           "Report: States’ Credit Quality ‘Declining’ After Pandemic Boost (230620bs.credit) (71 PV)",
           "Tim Smart"
          ],
          [
           "Search Intensifies for Missing Titanic Tourist Submersible (230620news.titanic) (408 PV)",
           "Cecelia Smith-Schoenwalder"
          ],
          [
           "Rogan, Musk, RFK Jr.: COVID-19 Vaccine Misinformation Thrives Even as Coronavirus Levels Fall (230620news.vaccines) (3,166 PV)",
           "Cecelia Smith-Schoenwalder"
          ],
          [
           "Amazon Prime Day 2023: 10 Early Luggage Deals to Shop Now (220617travel.amazonprimeday) (2 PV)",
           "Amanda Norcross"
          ],
          [
           "Best Children's Hospitals 2023-2024 Honor Roll and Overview (230621bch.overview) (68,559 PV)",
           "Ben Harder"
          ],
          [
           "Best Hospitals for Children With Severe Congenital Heart Disease 2023-2024 (230621bch.congenitalheartdisease) (542 PV)",
           "Ben Harder, Richard Nigro, Anne Pusey Roberts"
          ],
          [
           "U.S. Teens’ Reading and Math Scores Feature Largest Declines Ever (230621news.tests) (949 PV)",
           "Lauren Camera"
          ],
          [
           "Powell to Congress: Taming Inflation Has a ‘Long Way to Go,’ More Rate Hikes Likely (230621news.powell) (407 PV)",
           "Tim Smart"
          ],
          [
           "When Is Amazon Prime Day? (220127_whenisamazonprimeday) (20 PV)",
           "Brooke Nelson, Serena Lopez"
          ],
          [
           "China Blasts ‘Absurd’ Biden Reference to Xi as Ill-Informed ‘Dictator’ (230621news.china) (623 PV)",
           "Paul D. Shinkman"
          ],
          [
           "Poll: Republicans Prioritize Principles Over Electability Ahead of ‘24 (230621news.gop) (292 PV)",
           "Susan Milligan"
          ],
          [
           "Search for Titanic Tourist Submersible Ramps Up After Underwater Noises Heard (230621news.titanic) (715 PV)",
           "Cecelia Smith-Schoenwalder"
          ],
          [
           "Hunter Biden’s Questionable Case of ‘Special Treatment’ (230621news.hunter) (251 PV)",
           "Susan Milligan"
          ],
          [
           "Rape Kit Backlogs Remain in States Despite Funding (230620bs.kits) (267 PV)",
           "Chris Gilligan"
          ]
         ],
         "hovertemplate": "<b>%{customdata[0]}</b><br>%{customdata[1]}",
         "legendgroup": "",
         "marker": {
          "color": "#636efa",
          "size": 8,
          "symbol": "circle"
         },
         "mode": "markers",
         "name": "",
         "orientation": "v",
         "showlegend": false,
         "type": "scatter",
         "x": [
          53.28530502319336,
          64.31329345703125,
          -3.7261850833892822,
          15.75269603729248,
          108.50241088867188,
          -148.4833221435547,
          -97.86542510986328,
          85.77571105957031,
          148.69305419921875,
          -2.6533567905426025,
          -55.65813446044922,
          -14.009771347045898,
          158.32286071777344,
          -39.693668365478516,
          125.25531005859375,
          85.189697265625,
          46.634586334228516,
          -153.0506591796875,
          -103.2703857421875,
          90.78671264648438,
          -64.37872314453125,
          -16.968982696533203,
          -85.44309997558594,
          36.19717025756836,
          -2.747901439666748,
          112.55076599121094,
          33.272300720214844,
          7.123368263244629,
          216.7742919921875,
          -60.985774993896484,
          150.47955322265625,
          -182.80026245117188,
          -165.67977905273438,
          -22.224437713623047,
          62.141563415527344,
          143.89341735839844,
          128.89041137695312,
          13.7846040725708,
          232.24110412597656,
          49.46336364746094,
          -17.627904891967773
         ],
         "xaxis": "x",
         "y": [
          -155.96705627441406,
          151.20657348632812,
          186.44424438476562,
          68.62200927734375,
          223.56753540039062,
          52.6302490234375,
          -85.04354858398438,
          -85.72046661376953,
          182.32806396484375,
          -147.7046356201172,
          -25.932090759277344,
          85.05377960205078,
          -126.37714385986328,
          109.12503814697266,
          -86.1966781616211,
          54.84073257446289,
          181.1690673828125,
          9.592916488647461,
          -112.9076156616211,
          -10.420845031738281,
          60.22287368774414,
          -187.22357177734375,
          128.71849060058594,
          -223.77366638183594,
          153.7071533203125,
          -113.57122802734375,
          102.20972442626953,
          13.193981170654297,
          -16.89796257019043,
          -112.94861602783203,
          138.34957885742188,
          -55.29903793334961,
          -33.035865783691406,
          -6.53333854675293,
          -7.317196369171143,
          110.54065704345703,
          -165.38816833496094,
          -122.95506286621094,
          -40.06427764892578,
          -197.94635009765625,
          -51.59543991088867
         ],
         "yaxis": "y"
        }
       ],
       "layout": {
        "legend": {
         "tracegroupgap": 0
        },
        "margin": {
         "t": 60
        },
        "template": {
         "data": {
          "bar": [
           {
            "error_x": {
             "color": "#2a3f5f"
            },
            "error_y": {
             "color": "#2a3f5f"
            },
            "marker": {
             "line": {
              "color": "#E5ECF6",
              "width": 0.5
             },
             "pattern": {
              "fillmode": "overlay",
              "size": 10,
              "solidity": 0.2
             }
            },
            "type": "bar"
           }
          ],
          "barpolar": [
           {
            "marker": {
             "line": {
              "color": "#E5ECF6",
              "width": 0.5
             },
             "pattern": {
              "fillmode": "overlay",
              "size": 10,
              "solidity": 0.2
             }
            },
            "type": "barpolar"
           }
          ],
          "carpet": [
           {
            "aaxis": {
             "endlinecolor": "#2a3f5f",
             "gridcolor": "white",
             "linecolor": "white",
             "minorgridcolor": "white",
             "startlinecolor": "#2a3f5f"
            },
            "baxis": {
             "endlinecolor": "#2a3f5f",
             "gridcolor": "white",
             "linecolor": "white",
             "minorgridcolor": "white",
             "startlinecolor": "#2a3f5f"
            },
            "type": "carpet"
           }
          ],
          "choropleth": [
           {
            "colorbar": {
             "outlinewidth": 0,
             "ticks": ""
            },
            "type": "choropleth"
           }
          ],
          "contour": [
           {
            "colorbar": {
             "outlinewidth": 0,
             "ticks": ""
            },
            "colorscale": [
             [
              0,
              "#0d0887"
             ],
             [
              0.1111111111111111,
              "#46039f"
             ],
             [
              0.2222222222222222,
              "#7201a8"
             ],
             [
              0.3333333333333333,
              "#9c179e"
             ],
             [
              0.4444444444444444,
              "#bd3786"
             ],
             [
              0.5555555555555556,
              "#d8576b"
             ],
             [
              0.6666666666666666,
              "#ed7953"
             ],
             [
              0.7777777777777778,
              "#fb9f3a"
             ],
             [
              0.8888888888888888,
              "#fdca26"
             ],
             [
              1,
              "#f0f921"
             ]
            ],
            "type": "contour"
           }
          ],
          "contourcarpet": [
           {
            "colorbar": {
             "outlinewidth": 0,
             "ticks": ""
            },
            "type": "contourcarpet"
           }
          ],
          "heatmap": [
           {
            "colorbar": {
             "outlinewidth": 0,
             "ticks": ""
            },
            "colorscale": [
             [
              0,
              "#0d0887"
             ],
             [
              0.1111111111111111,
              "#46039f"
             ],
             [
              0.2222222222222222,
              "#7201a8"
             ],
             [
              0.3333333333333333,
              "#9c179e"
             ],
             [
              0.4444444444444444,
              "#bd3786"
             ],
             [
              0.5555555555555556,
              "#d8576b"
             ],
             [
              0.6666666666666666,
              "#ed7953"
             ],
             [
              0.7777777777777778,
              "#fb9f3a"
             ],
             [
              0.8888888888888888,
              "#fdca26"
             ],
             [
              1,
              "#f0f921"
             ]
            ],
            "type": "heatmap"
           }
          ],
          "heatmapgl": [
           {
            "colorbar": {
             "outlinewidth": 0,
             "ticks": ""
            },
            "colorscale": [
             [
              0,
              "#0d0887"
             ],
             [
              0.1111111111111111,
              "#46039f"
             ],
             [
              0.2222222222222222,
              "#7201a8"
             ],
             [
              0.3333333333333333,
              "#9c179e"
             ],
             [
              0.4444444444444444,
              "#bd3786"
             ],
             [
              0.5555555555555556,
              "#d8576b"
             ],
             [
              0.6666666666666666,
              "#ed7953"
             ],
             [
              0.7777777777777778,
              "#fb9f3a"
             ],
             [
              0.8888888888888888,
              "#fdca26"
             ],
             [
              1,
              "#f0f921"
             ]
            ],
            "type": "heatmapgl"
           }
          ],
          "histogram": [
           {
            "marker": {
             "pattern": {
              "fillmode": "overlay",
              "size": 10,
              "solidity": 0.2
             }
            },
            "type": "histogram"
           }
          ],
          "histogram2d": [
           {
            "colorbar": {
             "outlinewidth": 0,
             "ticks": ""
            },
            "colorscale": [
             [
              0,
              "#0d0887"
             ],
             [
              0.1111111111111111,
              "#46039f"
             ],
             [
              0.2222222222222222,
              "#7201a8"
             ],
             [
              0.3333333333333333,
              "#9c179e"
             ],
             [
              0.4444444444444444,
              "#bd3786"
             ],
             [
              0.5555555555555556,
              "#d8576b"
             ],
             [
              0.6666666666666666,
              "#ed7953"
             ],
             [
              0.7777777777777778,
              "#fb9f3a"
             ],
             [
              0.8888888888888888,
              "#fdca26"
             ],
             [
              1,
              "#f0f921"
             ]
            ],
            "type": "histogram2d"
           }
          ],
          "histogram2dcontour": [
           {
            "colorbar": {
             "outlinewidth": 0,
             "ticks": ""
            },
            "colorscale": [
             [
              0,
              "#0d0887"
             ],
             [
              0.1111111111111111,
              "#46039f"
             ],
             [
              0.2222222222222222,
              "#7201a8"
             ],
             [
              0.3333333333333333,
              "#9c179e"
             ],
             [
              0.4444444444444444,
              "#bd3786"
             ],
             [
              0.5555555555555556,
              "#d8576b"
             ],
             [
              0.6666666666666666,
              "#ed7953"
             ],
             [
              0.7777777777777778,
              "#fb9f3a"
             ],
             [
              0.8888888888888888,
              "#fdca26"
             ],
             [
              1,
              "#f0f921"
             ]
            ],
            "type": "histogram2dcontour"
           }
          ],
          "mesh3d": [
           {
            "colorbar": {
             "outlinewidth": 0,
             "ticks": ""
            },
            "type": "mesh3d"
           }
          ],
          "parcoords": [
           {
            "line": {
             "colorbar": {
              "outlinewidth": 0,
              "ticks": ""
             }
            },
            "type": "parcoords"
           }
          ],
          "pie": [
           {
            "automargin": true,
            "type": "pie"
           }
          ],
          "scatter": [
           {
            "fillpattern": {
             "fillmode": "overlay",
             "size": 10,
             "solidity": 0.2
            },
            "type": "scatter"
           }
          ],
          "scatter3d": [
           {
            "line": {
             "colorbar": {
              "outlinewidth": 0,
              "ticks": ""
             }
            },
            "marker": {
             "colorbar": {
              "outlinewidth": 0,
              "ticks": ""
             }
            },
            "type": "scatter3d"
           }
          ],
          "scattercarpet": [
           {
            "marker": {
             "colorbar": {
              "outlinewidth": 0,
              "ticks": ""
             }
            },
            "type": "scattercarpet"
           }
          ],
          "scattergeo": [
           {
            "marker": {
             "colorbar": {
              "outlinewidth": 0,
              "ticks": ""
             }
            },
            "type": "scattergeo"
           }
          ],
          "scattergl": [
           {
            "marker": {
             "colorbar": {
              "outlinewidth": 0,
              "ticks": ""
             }
            },
            "type": "scattergl"
           }
          ],
          "scattermapbox": [
           {
            "marker": {
             "colorbar": {
              "outlinewidth": 0,
              "ticks": ""
             }
            },
            "type": "scattermapbox"
           }
          ],
          "scatterpolar": [
           {
            "marker": {
             "colorbar": {
              "outlinewidth": 0,
              "ticks": ""
             }
            },
            "type": "scatterpolar"
           }
          ],
          "scatterpolargl": [
           {
            "marker": {
             "colorbar": {
              "outlinewidth": 0,
              "ticks": ""
             }
            },
            "type": "scatterpolargl"
           }
          ],
          "scatterternary": [
           {
            "marker": {
             "colorbar": {
              "outlinewidth": 0,
              "ticks": ""
             }
            },
            "type": "scatterternary"
           }
          ],
          "surface": [
           {
            "colorbar": {
             "outlinewidth": 0,
             "ticks": ""
            },
            "colorscale": [
             [
              0,
              "#0d0887"
             ],
             [
              0.1111111111111111,
              "#46039f"
             ],
             [
              0.2222222222222222,
              "#7201a8"
             ],
             [
              0.3333333333333333,
              "#9c179e"
             ],
             [
              0.4444444444444444,
              "#bd3786"
             ],
             [
              0.5555555555555556,
              "#d8576b"
             ],
             [
              0.6666666666666666,
              "#ed7953"
             ],
             [
              0.7777777777777778,
              "#fb9f3a"
             ],
             [
              0.8888888888888888,
              "#fdca26"
             ],
             [
              1,
              "#f0f921"
             ]
            ],
            "type": "surface"
           }
          ],
          "table": [
           {
            "cells": {
             "fill": {
              "color": "#EBF0F8"
             },
             "line": {
              "color": "white"
             }
            },
            "header": {
             "fill": {
              "color": "#C8D4E3"
             },
             "line": {
              "color": "white"
             }
            },
            "type": "table"
           }
          ]
         },
         "layout": {
          "annotationdefaults": {
           "arrowcolor": "#2a3f5f",
           "arrowhead": 0,
           "arrowwidth": 1
          },
          "autotypenumbers": "strict",
          "coloraxis": {
           "colorbar": {
            "outlinewidth": 0,
            "ticks": ""
           }
          },
          "colorscale": {
           "diverging": [
            [
             0,
             "#8e0152"
            ],
            [
             0.1,
             "#c51b7d"
            ],
            [
             0.2,
             "#de77ae"
            ],
            [
             0.3,
             "#f1b6da"
            ],
            [
             0.4,
             "#fde0ef"
            ],
            [
             0.5,
             "#f7f7f7"
            ],
            [
             0.6,
             "#e6f5d0"
            ],
            [
             0.7,
             "#b8e186"
            ],
            [
             0.8,
             "#7fbc41"
            ],
            [
             0.9,
             "#4d9221"
            ],
            [
             1,
             "#276419"
            ]
           ],
           "sequential": [
            [
             0,
             "#0d0887"
            ],
            [
             0.1111111111111111,
             "#46039f"
            ],
            [
             0.2222222222222222,
             "#7201a8"
            ],
            [
             0.3333333333333333,
             "#9c179e"
            ],
            [
             0.4444444444444444,
             "#bd3786"
            ],
            [
             0.5555555555555556,
             "#d8576b"
            ],
            [
             0.6666666666666666,
             "#ed7953"
            ],
            [
             0.7777777777777778,
             "#fb9f3a"
            ],
            [
             0.8888888888888888,
             "#fdca26"
            ],
            [
             1,
             "#f0f921"
            ]
           ],
           "sequentialminus": [
            [
             0,
             "#0d0887"
            ],
            [
             0.1111111111111111,
             "#46039f"
            ],
            [
             0.2222222222222222,
             "#7201a8"
            ],
            [
             0.3333333333333333,
             "#9c179e"
            ],
            [
             0.4444444444444444,
             "#bd3786"
            ],
            [
             0.5555555555555556,
             "#d8576b"
            ],
            [
             0.6666666666666666,
             "#ed7953"
            ],
            [
             0.7777777777777778,
             "#fb9f3a"
            ],
            [
             0.8888888888888888,
             "#fdca26"
            ],
            [
             1,
             "#f0f921"
            ]
           ]
          },
          "colorway": [
           "#636efa",
           "#EF553B",
           "#00cc96",
           "#ab63fa",
           "#FFA15A",
           "#19d3f3",
           "#FF6692",
           "#B6E880",
           "#FF97FF",
           "#FECB52"
          ],
          "font": {
           "color": "#2a3f5f"
          },
          "geo": {
           "bgcolor": "white",
           "lakecolor": "white",
           "landcolor": "#E5ECF6",
           "showlakes": true,
           "showland": true,
           "subunitcolor": "white"
          },
          "hoverlabel": {
           "align": "left"
          },
          "hovermode": "closest",
          "mapbox": {
           "style": "light"
          },
          "paper_bgcolor": "white",
          "plot_bgcolor": "#E5ECF6",
          "polar": {
           "angularaxis": {
            "gridcolor": "white",
            "linecolor": "white",
            "ticks": ""
           },
           "bgcolor": "#E5ECF6",
           "radialaxis": {
            "gridcolor": "white",
            "linecolor": "white",
            "ticks": ""
           }
          },
          "scene": {
           "xaxis": {
            "backgroundcolor": "#E5ECF6",
            "gridcolor": "white",
            "gridwidth": 2,
            "linecolor": "white",
            "showbackground": true,
            "ticks": "",
            "zerolinecolor": "white"
           },
           "yaxis": {
            "backgroundcolor": "#E5ECF6",
            "gridcolor": "white",
            "gridwidth": 2,
            "linecolor": "white",
            "showbackground": true,
            "ticks": "",
            "zerolinecolor": "white"
           },
           "zaxis": {
            "backgroundcolor": "#E5ECF6",
            "gridcolor": "white",
            "gridwidth": 2,
            "linecolor": "white",
            "showbackground": true,
            "ticks": "",
            "zerolinecolor": "white"
           }
          },
          "shapedefaults": {
           "line": {
            "color": "#2a3f5f"
           }
          },
          "ternary": {
           "aaxis": {
            "gridcolor": "white",
            "linecolor": "white",
            "ticks": ""
           },
           "baxis": {
            "gridcolor": "white",
            "linecolor": "white",
            "ticks": ""
           },
           "bgcolor": "#E5ECF6",
           "caxis": {
            "gridcolor": "white",
            "linecolor": "white",
            "ticks": ""
           }
          },
          "title": {
           "x": 0.05
          },
          "xaxis": {
           "automargin": true,
           "gridcolor": "white",
           "linecolor": "white",
           "ticks": "",
           "title": {
            "standoff": 15
           },
           "zerolinecolor": "white",
           "zerolinewidth": 2
          },
          "yaxis": {
           "automargin": true,
           "gridcolor": "white",
           "linecolor": "white",
           "ticks": "",
           "title": {
            "standoff": 15
           },
           "zerolinecolor": "white",
           "zerolinewidth": 2
          }
         }
        },
        "title": {
         "text": "2D Embeddings Visualization"
        },
        "xaxis": {
         "anchor": "y",
         "domain": [
          0,
          1
         ],
         "title": {
          "text": "Dimension 1"
         }
        },
        "yaxis": {
         "anchor": "x",
         "domain": [
          0,
          1
         ],
         "title": {
          "text": "Dimension 2"
         }
        }
       }
      },
      "text/html": [
       "<div>                            <div id=\"82a4ad1a-ea5e-46f4-981d-d1a1ababd7ef\" class=\"plotly-graph-div\" style=\"height:525px; width:100%;\"></div>            <script type=\"text/javascript\">                require([\"plotly\"], function(Plotly) {                    window.PLOTLYENV=window.PLOTLYENV || {};                                    if (document.getElementById(\"82a4ad1a-ea5e-46f4-981d-d1a1ababd7ef\")) {                    Plotly.newPlot(                        \"82a4ad1a-ea5e-46f4-981d-d1a1ababd7ef\",                        [{\"customdata\":[[\"Supreme Court Ethics Questions Reach Far Beyond Clarence Thomas (230616report.scotus) (316 PV)\",\"Lauren Camera\"],[\"15 Cheap DIY Backyard Game Ideas for Summer (230616realestate.cheapbackyardgames) (93 PV)\",\"Devon Thorsby\"],[\"Save With These Budget Bathroom Remodel Ideas (230616realestate.bathroomremodel) (31 PV)\",\"Devon Thorsby\"],[\"Mortgage Rates Rise, Pushing Housing Payments to New Heights (230616loans.mortgageratescolumn) (15 PV)\",\"Erika Giovanetti\"],[\"Most Delta SkyMiles American Express Cards Increase Welcome Offers (230615creditcards.deltaskymilesamexweclomeoffer) (10 PV)\",\"Melanie Pincus, Ray Frager \"],[\"Are Low-Fat Low-Carb Diets Compatible? (230616health.lowfatlowcarbdiet) (103 PV)\",\"Shanley Chien\"],[\"How Many Americans Will Take a Fall COVID-19 Booster Shot? (230616news.booster) (336 PV)\",\"Cecelia Smith-Schoenwalder\"],[\"Russians Don\\u2019t Want Putin to Use Nuclear Weapons in Ukraine (230616news.nuclear) (1,549 PV)\",\"Paul D. Shinkman\"],[\"Can I Use My Own Airplane Seat Belt Extender? (230505travel.seatbeltextenders) (67 PV)\",\"Suzanne Mason\"],[\"Poll: Majority Says Trump Should Drop Out of Presidential Race (230616news.trump) (341 PV)\",\"Susan Milligan\"],[\"CDC Study Shows Rise in Violent Death Rates Among U.S. Youth (230615hc.violence) (20 PV)\",\"Steven Ross Johnson\"],[\"Mortgage Calculator (201117loans.mortgagecalculator) (12 PV)\",\"Ali Cybulski , Erika Giovanetti\"],[\"North Korea Launches Ballistic Missiles Toward Japan in Defiance of U.S. Military Drills (230615news.northkorea) (17 PV)\",\"Paul D. Shinkman\"],[\"How to Refinance Your Car Loan (221129loans.refinance-car-loan) (4 PV)\",\"Ben Luthi, August Barham, Mark Evitt, Whitney Blair Wyckoff\"],[\"U.S. Military Leaders Acknowledge Ukraine\\u2019s \\u2018Uncertain,\\u2019 \\u2018Violent\\u2019 Future (230615news.russia) (24 PV)\",\"Paul D. Shinkman\"],[\"June Has Hottest Start on Record (230615news.climate) (109 PV)\",\"Cecelia Smith-Schoenwalder\"],[\"Cheap Alternatives to Air Conditioning (230615realestate.airconditioningalternatives) (199 PV)\",\"Devon Thorsby\"],[\"What Are the Dangers of Chiropractic Care During Pregnancy? (230615health.pregnant.chiropractic) (24 PV)\",\"Ruben Castaneda, Payton Sy\"],[\"FDA Committee OKs Change to COVID-19 Vaccines Ahead of Fall Booster Campaign (230615news.fda) (59 PV)\",\"Cecelia Smith-Schoenwalder\"],[\"Fed\\u2019s Powell to Testify to Congress as New Housing Construction Surges (230620news.preview) (5,348 PV)\",\"Tim Smart\"],[\"How to Become a Lawyer: A Step-by-Step Guide (230620edu.becomealawyer) (346 PV)\",\"Ilana Kowarski, Sarah Wood \"],[\"Judge Overseeing Trump\\u2019s Prosecution Sets Trial Date for Mid-August (230620news.trump) (695 PV)\",\"Claire Hansen\"],[\"Will Pay-for-Delete Improve My Credit Score? (230620creditcards.delete) (38 PV)\",\"Casey Bond, Emily Hayes, Ray Frager \"],[\"Hunter Biden to Plead Guilty to Gun, Tax Charges (230620news.hunter) (208 PV)\",\"Susan Milligan\"],[\"How to Save for a Wedding (230620personalfinance.saveforwedding) (142 PV)\",\"Erica Sandberg, Barri Segal, Emma Kerr\"],[\"Russia Advances in Ukraine as Zelenskyy Stresses: \\u2018We Have No Lost Positions\\u2019 (230620news.ukraine) (6,555 PV)\",\"Paul D. Shinkman\"],[\"Why You Should (and Shouldn't) Sell Your Home in 2023 (230620realestate.whysellhome) (176 PV)\",\"Devon Thorsby\"],[\"Report: States\\u2019 Credit Quality \\u2018Declining\\u2019 After Pandemic Boost (230620bs.credit) (71 PV)\",\"Tim Smart\"],[\"Search Intensifies for Missing Titanic Tourist Submersible (230620news.titanic) (408 PV)\",\"Cecelia Smith-Schoenwalder\"],[\"Rogan, Musk, RFK Jr.: COVID-19 Vaccine Misinformation Thrives Even as Coronavirus Levels Fall (230620news.vaccines) (3,166 PV)\",\"Cecelia Smith-Schoenwalder\"],[\"Amazon Prime Day 2023: 10 Early Luggage Deals to Shop Now (220617travel.amazonprimeday) (2 PV)\",\"Amanda Norcross\"],[\"Best Children's Hospitals 2023-2024 Honor Roll and Overview (230621bch.overview) (68,559 PV)\",\"Ben Harder\"],[\"Best Hospitals for Children With Severe Congenital Heart Disease 2023-2024 (230621bch.congenitalheartdisease) (542 PV)\",\"Ben Harder, Richard Nigro, Anne Pusey Roberts\"],[\"U.S. Teens\\u2019 Reading and Math Scores Feature Largest Declines Ever (230621news.tests) (949 PV)\",\"Lauren Camera\"],[\"Powell to Congress: Taming Inflation Has a \\u2018Long Way to Go,\\u2019 More Rate Hikes Likely (230621news.powell) (407 PV)\",\"Tim Smart\"],[\"When Is Amazon Prime Day? (220127_whenisamazonprimeday) (20 PV)\",\"Brooke Nelson, Serena Lopez\"],[\"China Blasts \\u2018Absurd\\u2019 Biden Reference to Xi as Ill-Informed \\u2018Dictator\\u2019 (230621news.china) (623 PV)\",\"Paul D. Shinkman\"],[\"Poll: Republicans Prioritize Principles Over Electability Ahead of \\u201824 (230621news.gop) (292 PV)\",\"Susan Milligan\"],[\"Search for Titanic Tourist Submersible Ramps Up After Underwater Noises Heard (230621news.titanic) (715 PV)\",\"Cecelia Smith-Schoenwalder\"],[\"Hunter Biden\\u2019s Questionable Case of \\u2018Special Treatment\\u2019 (230621news.hunter) (251 PV)\",\"Susan Milligan\"],[\"Rape Kit Backlogs Remain in States Despite Funding (230620bs.kits) (267 PV)\",\"Chris Gilligan\"]],\"hovertemplate\":\"\\u003cb\\u003e%{customdata[0]}\\u003c\\u002fb\\u003e\\u003cbr\\u003e%{customdata[1]}\",\"legendgroup\":\"\",\"marker\":{\"color\":\"#636efa\",\"symbol\":\"circle\",\"size\":8},\"mode\":\"markers\",\"name\":\"\",\"orientation\":\"v\",\"showlegend\":false,\"x\":[53.28530502319336,64.31329345703125,-3.7261850833892822,15.75269603729248,108.50241088867188,-148.4833221435547,-97.86542510986328,85.77571105957031,148.69305419921875,-2.6533567905426025,-55.65813446044922,-14.009771347045898,158.32286071777344,-39.693668365478516,125.25531005859375,85.189697265625,46.634586334228516,-153.0506591796875,-103.2703857421875,90.78671264648438,-64.37872314453125,-16.968982696533203,-85.44309997558594,36.19717025756836,-2.747901439666748,112.55076599121094,33.272300720214844,7.123368263244629,216.7742919921875,-60.985774993896484,150.47955322265625,-182.80026245117188,-165.67977905273438,-22.224437713623047,62.141563415527344,143.89341735839844,128.89041137695312,13.7846040725708,232.24110412597656,49.46336364746094,-17.627904891967773],\"xaxis\":\"x\",\"y\":[-155.96705627441406,151.20657348632812,186.44424438476562,68.62200927734375,223.56753540039062,52.6302490234375,-85.04354858398438,-85.72046661376953,182.32806396484375,-147.7046356201172,-25.932090759277344,85.05377960205078,-126.37714385986328,109.12503814697266,-86.1966781616211,54.84073257446289,181.1690673828125,9.592916488647461,-112.9076156616211,-10.420845031738281,60.22287368774414,-187.22357177734375,128.71849060058594,-223.77366638183594,153.7071533203125,-113.57122802734375,102.20972442626953,13.193981170654297,-16.89796257019043,-112.94861602783203,138.34957885742188,-55.29903793334961,-33.035865783691406,-6.53333854675293,-7.317196369171143,110.54065704345703,-165.38816833496094,-122.95506286621094,-40.06427764892578,-197.94635009765625,-51.59543991088867],\"yaxis\":\"y\",\"type\":\"scatter\"}],                        {\"template\":{\"data\":{\"histogram2dcontour\":[{\"type\":\"histogram2dcontour\",\"colorbar\":{\"outlinewidth\":0,\"ticks\":\"\"},\"colorscale\":[[0.0,\"#0d0887\"],[0.1111111111111111,\"#46039f\"],[0.2222222222222222,\"#7201a8\"],[0.3333333333333333,\"#9c179e\"],[0.4444444444444444,\"#bd3786\"],[0.5555555555555556,\"#d8576b\"],[0.6666666666666666,\"#ed7953\"],[0.7777777777777778,\"#fb9f3a\"],[0.8888888888888888,\"#fdca26\"],[1.0,\"#f0f921\"]]}],\"choropleth\":[{\"type\":\"choropleth\",\"colorbar\":{\"outlinewidth\":0,\"ticks\":\"\"}}],\"histogram2d\":[{\"type\":\"histogram2d\",\"colorbar\":{\"outlinewidth\":0,\"ticks\":\"\"},\"colorscale\":[[0.0,\"#0d0887\"],[0.1111111111111111,\"#46039f\"],[0.2222222222222222,\"#7201a8\"],[0.3333333333333333,\"#9c179e\"],[0.4444444444444444,\"#bd3786\"],[0.5555555555555556,\"#d8576b\"],[0.6666666666666666,\"#ed7953\"],[0.7777777777777778,\"#fb9f3a\"],[0.8888888888888888,\"#fdca26\"],[1.0,\"#f0f921\"]]}],\"heatmap\":[{\"type\":\"heatmap\",\"colorbar\":{\"outlinewidth\":0,\"ticks\":\"\"},\"colorscale\":[[0.0,\"#0d0887\"],[0.1111111111111111,\"#46039f\"],[0.2222222222222222,\"#7201a8\"],[0.3333333333333333,\"#9c179e\"],[0.4444444444444444,\"#bd3786\"],[0.5555555555555556,\"#d8576b\"],[0.6666666666666666,\"#ed7953\"],[0.7777777777777778,\"#fb9f3a\"],[0.8888888888888888,\"#fdca26\"],[1.0,\"#f0f921\"]]}],\"heatmapgl\":[{\"type\":\"heatmapgl\",\"colorbar\":{\"outlinewidth\":0,\"ticks\":\"\"},\"colorscale\":[[0.0,\"#0d0887\"],[0.1111111111111111,\"#46039f\"],[0.2222222222222222,\"#7201a8\"],[0.3333333333333333,\"#9c179e\"],[0.4444444444444444,\"#bd3786\"],[0.5555555555555556,\"#d8576b\"],[0.6666666666666666,\"#ed7953\"],[0.7777777777777778,\"#fb9f3a\"],[0.8888888888888888,\"#fdca26\"],[1.0,\"#f0f921\"]]}],\"contourcarpet\":[{\"type\":\"contourcarpet\",\"colorbar\":{\"outlinewidth\":0,\"ticks\":\"\"}}],\"contour\":[{\"type\":\"contour\",\"colorbar\":{\"outlinewidth\":0,\"ticks\":\"\"},\"colorscale\":[[0.0,\"#0d0887\"],[0.1111111111111111,\"#46039f\"],[0.2222222222222222,\"#7201a8\"],[0.3333333333333333,\"#9c179e\"],[0.4444444444444444,\"#bd3786\"],[0.5555555555555556,\"#d8576b\"],[0.6666666666666666,\"#ed7953\"],[0.7777777777777778,\"#fb9f3a\"],[0.8888888888888888,\"#fdca26\"],[1.0,\"#f0f921\"]]}],\"surface\":[{\"type\":\"surface\",\"colorbar\":{\"outlinewidth\":0,\"ticks\":\"\"},\"colorscale\":[[0.0,\"#0d0887\"],[0.1111111111111111,\"#46039f\"],[0.2222222222222222,\"#7201a8\"],[0.3333333333333333,\"#9c179e\"],[0.4444444444444444,\"#bd3786\"],[0.5555555555555556,\"#d8576b\"],[0.6666666666666666,\"#ed7953\"],[0.7777777777777778,\"#fb9f3a\"],[0.8888888888888888,\"#fdca26\"],[1.0,\"#f0f921\"]]}],\"mesh3d\":[{\"type\":\"mesh3d\",\"colorbar\":{\"outlinewidth\":0,\"ticks\":\"\"}}],\"scatter\":[{\"fillpattern\":{\"fillmode\":\"overlay\",\"size\":10,\"solidity\":0.2},\"type\":\"scatter\"}],\"parcoords\":[{\"type\":\"parcoords\",\"line\":{\"colorbar\":{\"outlinewidth\":0,\"ticks\":\"\"}}}],\"scatterpolargl\":[{\"type\":\"scatterpolargl\",\"marker\":{\"colorbar\":{\"outlinewidth\":0,\"ticks\":\"\"}}}],\"bar\":[{\"error_x\":{\"color\":\"#2a3f5f\"},\"error_y\":{\"color\":\"#2a3f5f\"},\"marker\":{\"line\":{\"color\":\"#E5ECF6\",\"width\":0.5},\"pattern\":{\"fillmode\":\"overlay\",\"size\":10,\"solidity\":0.2}},\"type\":\"bar\"}],\"scattergeo\":[{\"type\":\"scattergeo\",\"marker\":{\"colorbar\":{\"outlinewidth\":0,\"ticks\":\"\"}}}],\"scatterpolar\":[{\"type\":\"scatterpolar\",\"marker\":{\"colorbar\":{\"outlinewidth\":0,\"ticks\":\"\"}}}],\"histogram\":[{\"marker\":{\"pattern\":{\"fillmode\":\"overlay\",\"size\":10,\"solidity\":0.2}},\"type\":\"histogram\"}],\"scattergl\":[{\"type\":\"scattergl\",\"marker\":{\"colorbar\":{\"outlinewidth\":0,\"ticks\":\"\"}}}],\"scatter3d\":[{\"type\":\"scatter3d\",\"line\":{\"colorbar\":{\"outlinewidth\":0,\"ticks\":\"\"}},\"marker\":{\"colorbar\":{\"outlinewidth\":0,\"ticks\":\"\"}}}],\"scattermapbox\":[{\"type\":\"scattermapbox\",\"marker\":{\"colorbar\":{\"outlinewidth\":0,\"ticks\":\"\"}}}],\"scatterternary\":[{\"type\":\"scatterternary\",\"marker\":{\"colorbar\":{\"outlinewidth\":0,\"ticks\":\"\"}}}],\"scattercarpet\":[{\"type\":\"scattercarpet\",\"marker\":{\"colorbar\":{\"outlinewidth\":0,\"ticks\":\"\"}}}],\"carpet\":[{\"aaxis\":{\"endlinecolor\":\"#2a3f5f\",\"gridcolor\":\"white\",\"linecolor\":\"white\",\"minorgridcolor\":\"white\",\"startlinecolor\":\"#2a3f5f\"},\"baxis\":{\"endlinecolor\":\"#2a3f5f\",\"gridcolor\":\"white\",\"linecolor\":\"white\",\"minorgridcolor\":\"white\",\"startlinecolor\":\"#2a3f5f\"},\"type\":\"carpet\"}],\"table\":[{\"cells\":{\"fill\":{\"color\":\"#EBF0F8\"},\"line\":{\"color\":\"white\"}},\"header\":{\"fill\":{\"color\":\"#C8D4E3\"},\"line\":{\"color\":\"white\"}},\"type\":\"table\"}],\"barpolar\":[{\"marker\":{\"line\":{\"color\":\"#E5ECF6\",\"width\":0.5},\"pattern\":{\"fillmode\":\"overlay\",\"size\":10,\"solidity\":0.2}},\"type\":\"barpolar\"}],\"pie\":[{\"automargin\":true,\"type\":\"pie\"}]},\"layout\":{\"autotypenumbers\":\"strict\",\"colorway\":[\"#636efa\",\"#EF553B\",\"#00cc96\",\"#ab63fa\",\"#FFA15A\",\"#19d3f3\",\"#FF6692\",\"#B6E880\",\"#FF97FF\",\"#FECB52\"],\"font\":{\"color\":\"#2a3f5f\"},\"hovermode\":\"closest\",\"hoverlabel\":{\"align\":\"left\"},\"paper_bgcolor\":\"white\",\"plot_bgcolor\":\"#E5ECF6\",\"polar\":{\"bgcolor\":\"#E5ECF6\",\"angularaxis\":{\"gridcolor\":\"white\",\"linecolor\":\"white\",\"ticks\":\"\"},\"radialaxis\":{\"gridcolor\":\"white\",\"linecolor\":\"white\",\"ticks\":\"\"}},\"ternary\":{\"bgcolor\":\"#E5ECF6\",\"aaxis\":{\"gridcolor\":\"white\",\"linecolor\":\"white\",\"ticks\":\"\"},\"baxis\":{\"gridcolor\":\"white\",\"linecolor\":\"white\",\"ticks\":\"\"},\"caxis\":{\"gridcolor\":\"white\",\"linecolor\":\"white\",\"ticks\":\"\"}},\"coloraxis\":{\"colorbar\":{\"outlinewidth\":0,\"ticks\":\"\"}},\"colorscale\":{\"sequential\":[[0.0,\"#0d0887\"],[0.1111111111111111,\"#46039f\"],[0.2222222222222222,\"#7201a8\"],[0.3333333333333333,\"#9c179e\"],[0.4444444444444444,\"#bd3786\"],[0.5555555555555556,\"#d8576b\"],[0.6666666666666666,\"#ed7953\"],[0.7777777777777778,\"#fb9f3a\"],[0.8888888888888888,\"#fdca26\"],[1.0,\"#f0f921\"]],\"sequentialminus\":[[0.0,\"#0d0887\"],[0.1111111111111111,\"#46039f\"],[0.2222222222222222,\"#7201a8\"],[0.3333333333333333,\"#9c179e\"],[0.4444444444444444,\"#bd3786\"],[0.5555555555555556,\"#d8576b\"],[0.6666666666666666,\"#ed7953\"],[0.7777777777777778,\"#fb9f3a\"],[0.8888888888888888,\"#fdca26\"],[1.0,\"#f0f921\"]],\"diverging\":[[0,\"#8e0152\"],[0.1,\"#c51b7d\"],[0.2,\"#de77ae\"],[0.3,\"#f1b6da\"],[0.4,\"#fde0ef\"],[0.5,\"#f7f7f7\"],[0.6,\"#e6f5d0\"],[0.7,\"#b8e186\"],[0.8,\"#7fbc41\"],[0.9,\"#4d9221\"],[1,\"#276419\"]]},\"xaxis\":{\"gridcolor\":\"white\",\"linecolor\":\"white\",\"ticks\":\"\",\"title\":{\"standoff\":15},\"zerolinecolor\":\"white\",\"automargin\":true,\"zerolinewidth\":2},\"yaxis\":{\"gridcolor\":\"white\",\"linecolor\":\"white\",\"ticks\":\"\",\"title\":{\"standoff\":15},\"zerolinecolor\":\"white\",\"automargin\":true,\"zerolinewidth\":2},\"scene\":{\"xaxis\":{\"backgroundcolor\":\"#E5ECF6\",\"gridcolor\":\"white\",\"linecolor\":\"white\",\"showbackground\":true,\"ticks\":\"\",\"zerolinecolor\":\"white\",\"gridwidth\":2},\"yaxis\":{\"backgroundcolor\":\"#E5ECF6\",\"gridcolor\":\"white\",\"linecolor\":\"white\",\"showbackground\":true,\"ticks\":\"\",\"zerolinecolor\":\"white\",\"gridwidth\":2},\"zaxis\":{\"backgroundcolor\":\"#E5ECF6\",\"gridcolor\":\"white\",\"linecolor\":\"white\",\"showbackground\":true,\"ticks\":\"\",\"zerolinecolor\":\"white\",\"gridwidth\":2}},\"shapedefaults\":{\"line\":{\"color\":\"#2a3f5f\"}},\"annotationdefaults\":{\"arrowcolor\":\"#2a3f5f\",\"arrowhead\":0,\"arrowwidth\":1},\"geo\":{\"bgcolor\":\"white\",\"landcolor\":\"#E5ECF6\",\"subunitcolor\":\"white\",\"showland\":true,\"showlakes\":true,\"lakecolor\":\"white\"},\"title\":{\"x\":0.05},\"mapbox\":{\"style\":\"light\"}}},\"xaxis\":{\"anchor\":\"y\",\"domain\":[0.0,1.0],\"title\":{\"text\":\"Dimension 1\"}},\"yaxis\":{\"anchor\":\"x\",\"domain\":[0.0,1.0],\"title\":{\"text\":\"Dimension 2\"}},\"legend\":{\"tracegroupgap\":0},\"margin\":{\"t\":60},\"title\":{\"text\":\"2D Embeddings Visualization\"}},                        {\"responsive\": true}                    ).then(function(){\n",
       "                            \n",
       "var gd = document.getElementById('82a4ad1a-ea5e-46f4-981d-d1a1ababd7ef');\n",
       "var x = new MutationObserver(function (mutations, observer) {{\n",
       "        var display = window.getComputedStyle(gd).display;\n",
       "        if (!display || display === 'none') {{\n",
       "            console.log([gd, 'removed!']);\n",
       "            Plotly.purge(gd);\n",
       "            observer.disconnect();\n",
       "        }}\n",
       "}});\n",
       "\n",
       "// Listen for the removal of the full notebook cells\n",
       "var notebookContainer = gd.closest('#notebook-container');\n",
       "if (notebookContainer) {{\n",
       "    x.observe(notebookContainer, {childList: true});\n",
       "}}\n",
       "\n",
       "// Listen for the clearing of the current output cell\n",
       "var outputEl = gd.closest('.output');\n",
       "if (outputEl) {{\n",
       "    x.observe(outputEl, {childList: true});\n",
       "}}\n",
       "\n",
       "                        })                };                });            </script>        </div>"
      ]
     },
     "metadata": {},
     "output_type": "display_data"
    }
   ],
   "source": [
    "import plotly.express as px\n",
    "import pandas as pd\n",
    "\n",
    "# Assuming you have the 2D embeddings stored in `vis_dims`\n",
    "# Assuming your DataFrame is named `df` and contains a column 'Label' for the labels\n",
    "\n",
    "# Extract the labels from the DataFrame\n",
    "labels = df['Label'].tolist()\n",
    "authors = df['Authors'].tolist()\n",
    "\n",
    "# Create a new DataFrame with the coordinates and labels\n",
    "plot_data = pd.DataFrame({'x': vis_dims[:, 0], 'y': vis_dims[:, 1], 'labels': labels, 'authors': authors})\n",
    "\n",
    "# Create a scatter plot with hover labels\n",
    "fig = px.scatter(plot_data, x='x', y='y', hover_data=['labels', 'authors'])\n",
    "\n",
    "\n",
    "# Customize the hovertemplate to define the content and format of the hover labels\n",
    "fig.update_traces(hovertemplate='<b>%{customdata[0]}</b><br>%{customdata[1]}')\n",
    "\n",
    "# Customize the plot layout and appearance\n",
    "fig.update_layout(\n",
    "    title='2D Embeddings Visualization',\n",
    "    xaxis_title='Dimension 1',\n",
    "    yaxis_title='Dimension 2'\n",
    ")\n",
    "fig.update_traces(marker=dict(size=8))\n",
    "\n",
    "# Display the plot\n",
    "fig.show()\n"
   ]
  }
 ],
 "metadata": {
  "kernelspec": {
   "display_name": "Python 3 (ipykernel)",
   "language": "python",
   "name": "python3"
  },
  "language_info": {
   "codemirror_mode": {
    "name": "ipython",
    "version": 3
   },
   "file_extension": ".py",
   "mimetype": "text/x-python",
   "name": "python",
   "nbconvert_exporter": "python",
   "pygments_lexer": "ipython3",
   "version": "3.9.2"
  },
  "vscode": {
   "interpreter": {
    "hash": "365536dcbde60510dc9073d6b991cd35db2d9bac356a11f5b64279a5e6708b97"
   }
  }
 },
 "nbformat": 4,
 "nbformat_minor": 2
}
